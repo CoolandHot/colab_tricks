{
  "nbformat": 4,
  "nbformat_minor": 0,
  "metadata": {
    "colab": {
      "name": "pyspark_colab.ipynb",
      "provenance": [],
      "collapsed_sections": [],
      "authorship_tag": "ABX9TyM9EPz/20m3Tcfzjh9EK1LE",
      "include_colab_link": true
    },
    "kernelspec": {
      "name": "python3",
      "display_name": "Python 3"
    },
    "language_info": {
      "name": "python"
    }
  },
  "cells": [
    {
      "cell_type": "markdown",
      "metadata": {
        "id": "view-in-github",
        "colab_type": "text"
      },
      "source": [
        "<a href=\"https://colab.research.google.com/github/CoolandHot/colab_tricks/blob/main/pyspark_colab.ipynb\" target=\"_parent\"><img src=\"https://colab.research.google.com/assets/colab-badge.svg\" alt=\"Open In Colab\"/></a>"
      ]
    },
    {
      "cell_type": "code",
      "source": [
        "ngrok_token = \"<your ngrok token>\"\n",
        "expose_port = '4050'"
      ],
      "metadata": {
        "id": "IXj41uE9DnOD"
      },
      "execution_count": null,
      "outputs": []
    },
    {
      "cell_type": "markdown",
      "source": [
        "# Install local spark with Hadoop\n",
        "And set the environment"
      ],
      "metadata": {
        "id": "xyRM2YYk-0Q2"
      }
    },
    {
      "cell_type": "code",
      "source": [
        "#@title prerequisites\n",
        "%%capture\n",
        "!pip install pyspark\n",
        "\n",
        "# download Java\n",
        "!apt-get install openjdk-8-jdk-headless -qq > /dev/null\n",
        "# install Apache Spark with Hadoop\n",
        "!wget -q https://dlcdn.apache.org/spark/spark-3.2.0/spark-3.2.0-bin-hadoop3.2.tgz\n",
        "!tar xf spark-3.2.0-bin-hadoop3.2.tgz\n",
        "# findspark will locate Spark on the system and import it as a regular library.\n",
        "!pip install -q findspark\n",
        "\n",
        "import os\n",
        "os.environ[\"JAVA_HOME\"] = \"/usr/lib/jvm/java-8-openjdk-amd64\"\n",
        "os.environ[\"SPARK_HOME\"] = \"/content/spark-3.2.0-bin-hadoop3.2\"\n",
        "import findspark\n",
        "findspark.init()\n",
        "findspark.find()"
      ],
      "metadata": {
        "cellView": "form",
        "id": "3q9P4tIMwxdD"
      },
      "execution_count": null,
      "outputs": []
    },
    {
      "cell_type": "markdown",
      "source": [
        "## Spark UI"
      ],
      "metadata": {
        "id": "7zaKrMCx-xCr"
      }
    },
    {
      "cell_type": "code",
      "source": [
        "!wget https://bin.equinox.io/c/4VmDzA7iaHb/ngrok-stable-linux-amd64.zip\n",
        "!unzip ngrok-stable-linux-amd64.zip"
      ],
      "metadata": {
        "id": "-BEyIa5cxHaI"
      },
      "execution_count": null,
      "outputs": []
    },
    {
      "cell_type": "code",
      "source": [
        "# run ngrok in the background\n",
        "!nohup ./ngrok authtoken {ngrok_token}\n",
        "!nohup ./ngrok http {expose_port} &\n",
        "!curl --silent --max-time 10 --connect-timeout 5 --show-error http://127.0.0.1:4040/api/tunnels | sed -nE 's/.*public_url\":\"https:..([^\"]*).*/\\1/p'"
      ],
      "metadata": {
        "id": "rufmrxwy8EBF"
      },
      "execution_count": null,
      "outputs": []
    },
    {
      "cell_type": "markdown",
      "source": [
        "## pyspark"
      ],
      "metadata": {
        "id": "9wW8dwQN_Iii"
      }
    },
    {
      "cell_type": "markdown",
      "source": [
        "[PySpark Tutorial](https://www.youtube.com/watch?v=_C8kWso4ne4)"
      ],
      "metadata": {
        "id": "9lPKbYBBHkyv"
      }
    },
    {
      "cell_type": "code",
      "execution_count": null,
      "metadata": {
        "colab": {
          "base_uri": "https://localhost:8080/",
          "height": 218
        },
        "id": "xFV71S4fwk20",
        "outputId": "8c523a9f-51b7-41ba-e875-4311c1131be7"
      },
      "outputs": [
        {
          "output_type": "execute_result",
          "data": {
            "text/html": [
              "\n",
              "            <div>\n",
              "                <p><b>SparkSession - in-memory</b></p>\n",
              "                \n",
              "        <div>\n",
              "            <p><b>SparkContext</b></p>\n",
              "\n",
              "            <p><a href=\"http://582875e2a5ce:4050\">Spark UI</a></p>\n",
              "\n",
              "            <dl>\n",
              "              <dt>Version</dt>\n",
              "                <dd><code>v3.2.0</code></dd>\n",
              "              <dt>Master</dt>\n",
              "                <dd><code>local</code></dd>\n",
              "              <dt>AppName</dt>\n",
              "                <dd><code>Colab</code></dd>\n",
              "            </dl>\n",
              "        </div>\n",
              "        \n",
              "            </div>\n",
              "        "
            ],
            "text/plain": [
              "<pyspark.sql.session.SparkSession at 0x7f914b459190>"
            ]
          },
          "metadata": {},
          "execution_count": 2
        }
      ],
      "source": [
        "from pyspark.sql import SparkSession\n",
        "spark = SparkSession.builder\\\n",
        "        .master(\"local\")\\\n",
        "        .appName(\"Colab\")\\\n",
        "        .config('spark.ui.port', expose_port)\\\n",
        "        .getOrCreate()\n",
        "\n",
        "spark"
      ]
    },
    {
      "cell_type": "code",
      "source": [
        "%%capture\n",
        "# download dataset sample\n",
        "!wget --continue https://raw.githubusercontent.com/GarvitArya/pyspark-demo/main/sample_books.json -O /tmp/sample_books.json\n",
        "\n",
        "import pandas as pd\n",
        "pd.DataFrame([{'name': 'Huan', 'work': 'Postgraduate', 'year': 3, 'salary': 12000, 'age': 33}, \n",
        "              {'name': 'John', 'work': 'manager', 'year': 2, 'salary': 8400, 'age': 23}, \n",
        "              {'name': 'Ken', 'work': pd.NA, 'year': pd.NA, 'salary': 8000, 'age': 62},\n",
        "              {'name': pd.NA, 'work': 'Engineer', 'year': 2, 'salary': 5000, 'age': 27},\n",
        "              {'name': 'Tom', 'work': 'HR', 'year': 4, 'salary': pd.NA, 'age': 21},\n",
        "              {'name': 'Hellen', 'work': 'HR', 'year': 10, 'salary': 4400, 'age': 43}])\\\n",
        "  .to_csv('random.csv', index=False)"
      ],
      "metadata": {
        "id": "RTNFmZ4r_yX4"
      },
      "execution_count": null,
      "outputs": []
    },
    {
      "cell_type": "code",
      "source": [
        "df = spark.read.csv(\"random.csv\",\n",
        "                    header = True,\n",
        "                    inferSchema=True) # if without inferSchema, spark will read everything as string\n",
        "df.printSchema()\n",
        "df.show()\n",
        "df.describe().show()"
      ],
      "metadata": {
        "colab": {
          "base_uri": "https://localhost:8080/"
        },
        "id": "rIqaq4bXIaTN",
        "outputId": "03367dc0-d06f-4647-d82e-b83364fd2b5a"
      },
      "execution_count": null,
      "outputs": [
        {
          "output_type": "stream",
          "name": "stdout",
          "text": [
            "root\n",
            " |-- name: string (nullable = true)\n",
            " |-- work: string (nullable = true)\n",
            " |-- year: integer (nullable = true)\n",
            " |-- salary: integer (nullable = true)\n",
            " |-- age: integer (nullable = true)\n",
            "\n",
            "+------+------------+----+------+---+\n",
            "|  name|        work|year|salary|age|\n",
            "+------+------------+----+------+---+\n",
            "|  Huan|Postgraduate|   3| 12000| 33|\n",
            "|  John|     manager|   2|  8400| 23|\n",
            "|   Ken|        null|null|  8000| 62|\n",
            "|  null|    Engineer|   2|  5000| 27|\n",
            "|   Tom|          HR|   4|  null| 21|\n",
            "|Hellen|          HR|  10|  4400| 43|\n",
            "+------+------------+----+------+---+\n",
            "\n",
            "+-------+------+--------+------------------+------------------+------------------+\n",
            "|summary|  name|    work|              year|            salary|               age|\n",
            "+-------+------+--------+------------------+------------------+------------------+\n",
            "|  count|     5|       5|                 5|                 5|                 6|\n",
            "|   mean|  null|    null|               4.2|            7560.0|34.833333333333336|\n",
            "| stddev|  null|    null|3.3466401061363023|3047.6220238080705|15.497311594811103|\n",
            "|    min|Hellen|Engineer|                 2|              4400|                21|\n",
            "|    max|   Tom| manager|                10|             12000|                62|\n",
            "+-------+------+--------+------------------+------------------+------------------+\n",
            "\n"
          ]
        }
      ]
    },
    {
      "cell_type": "code",
      "source": [
        "# add column\n",
        "df = df.withColumn('add_one_more_year', df['year']+1) # not inplace\n",
        "df.show()\n",
        "# rename column\n",
        "df.withColumnRenamed('add_one_more_year', 'next_year').show() # not inplace\n",
        "# drop column\n",
        "df = df.drop('add_one_more_year')\n",
        "df.show()"
      ],
      "metadata": {
        "colab": {
          "base_uri": "https://localhost:8080/"
        },
        "id": "abufGjfhMi96",
        "outputId": "f6ad44c3-a7d3-44b3-c23a-2a51ebbd0f7e"
      },
      "execution_count": null,
      "outputs": [
        {
          "output_type": "stream",
          "name": "stdout",
          "text": [
            "+----+------------+----+------+-----------------+\n",
            "|name|        work|year|salary|add_one_more_year|\n",
            "+----+------------+----+------+-----------------+\n",
            "|Huan|Postgraduate|   3| 12000|                4|\n",
            "|John|     manager|   2|  8400|                3|\n",
            "| Ken|        null|null|  8000|             null|\n",
            "|null|    Engineer|   2|  5000|                3|\n",
            "| Tom|          HR|   4|  null|                5|\n",
            "+----+------------+----+------+-----------------+\n",
            "\n",
            "+----+------------+----+------+---------+\n",
            "|name|        work|year|salary|next_year|\n",
            "+----+------------+----+------+---------+\n",
            "|Huan|Postgraduate|   3| 12000|        4|\n",
            "|John|     manager|   2|  8400|        3|\n",
            "| Ken|        null|null|  8000|     null|\n",
            "|null|    Engineer|   2|  5000|        3|\n",
            "| Tom|          HR|   4|  null|        5|\n",
            "+----+------------+----+------+---------+\n",
            "\n",
            "+----+------------+----+------+\n",
            "|name|        work|year|salary|\n",
            "+----+------------+----+------+\n",
            "|Huan|Postgraduate|   3| 12000|\n",
            "|John|     manager|   2|  8400|\n",
            "| Ken|        null|null|  8000|\n",
            "|null|    Engineer|   2|  5000|\n",
            "| Tom|          HR|   4|  null|\n",
            "+----+------------+----+------+\n",
            "\n"
          ]
        }
      ]
    },
    {
      "cell_type": "markdown",
      "source": [
        "Lambda function"
      ],
      "metadata": {
        "id": "D1fLUCxtlFG5"
      }
    },
    {
      "cell_type": "code",
      "source": [
        "import pyspark.sql.functions as F\n",
        "from pyspark.sql.types import IntegerType\n",
        "lambdaFn = F.udf(lambda x: x+3, IntegerType())\n",
        "df.na.drop()\\\n",
        "    .withColumn('add_3_more_year', lambdaFn(df.salary))\\\n",
        "    .show()"
      ],
      "metadata": {
        "colab": {
          "base_uri": "https://localhost:8080/"
        },
        "id": "JEMlgE0Ljc7P",
        "outputId": "564f4b16-b384-4e60-8360-e4fc2d2aac8f"
      },
      "execution_count": null,
      "outputs": [
        {
          "output_type": "stream",
          "name": "stdout",
          "text": [
            "+------+------------+----+------+---+------------+--------------+---------------+\n",
            "|  name|        work|year|salary|age|year_imputed|salary_imputed|add_3_more_year|\n",
            "+------+------------+----+------+---+------------+--------------+---------------+\n",
            "|  Huan|Postgraduate|   3| 12000| 33|           3|         12000|          12003|\n",
            "|  John|     manager|   2|  8400| 23|           2|          8400|           8403|\n",
            "|Hellen|          HR|  10|  4400| 43|          10|          4400|           4403|\n",
            "+------+------------+----+------+---+------------+--------------+---------------+\n",
            "\n"
          ]
        }
      ]
    },
    {
      "cell_type": "code",
      "source": [
        "# drop nan rows\n",
        "df.na.drop(how='any', \n",
        "           thresh=2, # only on nan >= 2\n",
        "           subset=['work', 'year'] # only check on the subset\n",
        "           ).show()\n",
        "# fill nan with\n",
        "df.na.fill('missing', subset=['work']).show()\n",
        "df.fillna('missing_with_fillna').show()\n",
        "\n",
        "\n",
        "# impute\n",
        "from pyspark.ml.feature import Imputer\n",
        "imputer = Imputer(\n",
        "            inputCols=['year', 'salary'],\n",
        "            outputCols=['{}_imputed'.format(c) for c in ['year', 'salary']]\n",
        "        ).setStrategy('median')\n",
        "df = imputer.fit(df).transform(df)\n",
        "df.show()"
      ],
      "metadata": {
        "colab": {
          "base_uri": "https://localhost:8080/"
        },
        "id": "n3IsqHu5PM3d",
        "outputId": "48ecbf66-9798-4f8b-a61c-21fbdd5ebc07"
      },
      "execution_count": null,
      "outputs": [
        {
          "output_type": "stream",
          "name": "stdout",
          "text": [
            "+------+------------+----+------+---+------------+--------------+\n",
            "|  name|        work|year|salary|age|year_imputed|salary_imputed|\n",
            "+------+------------+----+------+---+------------+--------------+\n",
            "|  Huan|Postgraduate|   3| 12000| 33|           3|         12000|\n",
            "|  John|     manager|   2|  8400| 23|           2|          8400|\n",
            "|  null|    Engineer|   2|  5000| 27|           2|          5000|\n",
            "|   Tom|          HR|   4|  null| 21|           4|          8000|\n",
            "|Hellen|          HR|  10|  4400| 43|          10|          4400|\n",
            "+------+------------+----+------+---+------------+--------------+\n",
            "\n",
            "+------+------------+----+------+---+------------+--------------+\n",
            "|  name|        work|year|salary|age|year_imputed|salary_imputed|\n",
            "+------+------------+----+------+---+------------+--------------+\n",
            "|  Huan|Postgraduate|   3| 12000| 33|           3|         12000|\n",
            "|  John|     manager|   2|  8400| 23|           2|          8400|\n",
            "|   Ken|     missing|null|  8000| 62|           3|          8000|\n",
            "|  null|    Engineer|   2|  5000| 27|           2|          5000|\n",
            "|   Tom|          HR|   4|  null| 21|           4|          8000|\n",
            "|Hellen|          HR|  10|  4400| 43|          10|          4400|\n",
            "+------+------------+----+------+---+------------+--------------+\n",
            "\n",
            "+-------------------+-------------------+----+------+---+------------+--------------+\n",
            "|               name|               work|year|salary|age|year_imputed|salary_imputed|\n",
            "+-------------------+-------------------+----+------+---+------------+--------------+\n",
            "|               Huan|       Postgraduate|   3| 12000| 33|           3|         12000|\n",
            "|               John|            manager|   2|  8400| 23|           2|          8400|\n",
            "|                Ken|missing_with_fillna|null|  8000| 62|           3|          8000|\n",
            "|missing_with_fillna|           Engineer|   2|  5000| 27|           2|          5000|\n",
            "|                Tom|                 HR|   4|  null| 21|           4|          8000|\n",
            "|             Hellen|                 HR|  10|  4400| 43|          10|          4400|\n",
            "+-------------------+-------------------+----+------+---+------------+--------------+\n",
            "\n",
            "+------+------------+----+------+---+------------+--------------+\n",
            "|  name|        work|year|salary|age|year_imputed|salary_imputed|\n",
            "+------+------------+----+------+---+------------+--------------+\n",
            "|  Huan|Postgraduate|   3| 12000| 33|           3|         12000|\n",
            "|  John|     manager|   2|  8400| 23|           2|          8400|\n",
            "|   Ken|        null|null|  8000| 62|           3|          8000|\n",
            "|  null|    Engineer|   2|  5000| 27|           2|          5000|\n",
            "|   Tom|          HR|   4|  null| 21|           4|          8000|\n",
            "|Hellen|          HR|  10|  4400| 43|          10|          4400|\n",
            "+------+------------+----+------+---+------------+--------------+\n",
            "\n"
          ]
        }
      ]
    },
    {
      "cell_type": "code",
      "source": [
        "# number of partitions of the dataframe\n",
        "df.rdd.getNumPartitions()"
      ],
      "metadata": {
        "colab": {
          "base_uri": "https://localhost:8080/"
        },
        "id": "E6iwfZyIUbE3",
        "outputId": "03576e9f-47f9-41c7-a890-034c9b69e105"
      },
      "execution_count": null,
      "outputs": [
        {
          "output_type": "execute_result",
          "data": {
            "text/plain": [
              "1"
            ]
          },
          "metadata": {},
          "execution_count": 41
        }
      ]
    },
    {
      "cell_type": "code",
      "source": [
        "df.count()"
      ],
      "metadata": {
        "colab": {
          "base_uri": "https://localhost:8080/"
        },
        "id": "u7KYnrrKUb64",
        "outputId": "701d995a-db07-469f-d3e6-baa29149ca53"
      },
      "execution_count": null,
      "outputs": [
        {
          "output_type": "execute_result",
          "data": {
            "text/plain": [
              "5"
            ]
          },
          "metadata": {},
          "execution_count": 42
        }
      ]
    },
    {
      "cell_type": "code",
      "source": [
        "df2 = df.drop('year', 'salary')\n",
        "df2.show()\n",
        "\n",
        "df2.filter('salary_imputed > 8000 AND year_imputed < 4 AND work IS NOT NULL').select(['name','work']).show()\n",
        "df2.filter(~(df2['salary_imputed']>8000) & # careful, ~ infront to reverse selection\n",
        "           (df2['year_imputed']<4)).select(['name','work']).show()"
      ],
      "metadata": {
        "colab": {
          "base_uri": "https://localhost:8080/"
        },
        "id": "i5CRxbeOSLxk",
        "outputId": "d9891870-2b98-48a4-8409-0cc008a6083f"
      },
      "execution_count": null,
      "outputs": [
        {
          "output_type": "stream",
          "name": "stdout",
          "text": [
            "+------+------------+---+------------+--------------+\n",
            "|  name|        work|age|year_imputed|salary_imputed|\n",
            "+------+------------+---+------------+--------------+\n",
            "|  Huan|Postgraduate| 33|           3|         12000|\n",
            "|  John|     manager| 23|           2|          8400|\n",
            "|   Ken|        null| 62|           3|          8000|\n",
            "|  null|    Engineer| 27|           2|          5000|\n",
            "|   Tom|          HR| 21|           4|          8000|\n",
            "|Hellen|          HR| 43|          10|          4400|\n",
            "+------+------------+---+------------+--------------+\n",
            "\n",
            "+----+------------+\n",
            "|name|        work|\n",
            "+----+------------+\n",
            "|Huan|Postgraduate|\n",
            "|John|     manager|\n",
            "+----+------------+\n",
            "\n",
            "+----+--------+\n",
            "|name|    work|\n",
            "+----+--------+\n",
            "| Ken|    null|\n",
            "|null|Engineer|\n",
            "+----+--------+\n",
            "\n"
          ]
        }
      ]
    },
    {
      "cell_type": "code",
      "source": [
        "df2.groupBy('work').count().show()\n",
        "df2.groupBy('work').sum().show()"
      ],
      "metadata": {
        "colab": {
          "base_uri": "https://localhost:8080/"
        },
        "id": "ar0iJewQV726",
        "outputId": "139ed37a-5701-4aa9-b6d2-2d8ed739f401"
      },
      "execution_count": null,
      "outputs": [
        {
          "output_type": "stream",
          "name": "stdout",
          "text": [
            "+------------+-----+\n",
            "|        work|count|\n",
            "+------------+-----+\n",
            "|          HR|    2|\n",
            "|     manager|    1|\n",
            "|Postgraduate|    1|\n",
            "|    Engineer|    1|\n",
            "|        null|    1|\n",
            "+------------+-----+\n",
            "\n",
            "+------------+--------+-----------------+-------------------+\n",
            "|        work|sum(age)|sum(year_imputed)|sum(salary_imputed)|\n",
            "+------------+--------+-----------------+-------------------+\n",
            "|          HR|      64|               14|              12400|\n",
            "|     manager|      23|                2|               8400|\n",
            "|Postgraduate|      33|                3|              12000|\n",
            "|    Engineer|      27|                2|               5000|\n",
            "|        null|      62|                3|               8000|\n",
            "+------------+--------+-----------------+-------------------+\n",
            "\n"
          ]
        }
      ]
    },
    {
      "cell_type": "markdown",
      "source": [
        "Linear Regression"
      ],
      "metadata": {
        "id": "Dag5bb9daPnM"
      }
    },
    {
      "cell_type": "code",
      "source": [
        "from pyspark.ml.feature import VectorAssembler\n",
        "from pyspark.ml.feature import StringIndexer\n",
        "from pyspark.ml.regression import LinearRegression\n",
        "\n",
        "# convert the categorical values\n",
        "stringIndx = StringIndexer(inputCol='work', outputCol='work_indexed',\n",
        "                           handleInvalid = 'skip') # handle NULL\n",
        "df3 = stringIndx.fit(df2).transform(df2)\n",
        "df3.show()\n",
        "\n",
        "# the input independent features for ML model is a list of vectors, \n",
        "# thus we need to combine them into a new column\n",
        "feature_assembler = VectorAssembler(inputCols=['work_indexed', 'age', 'year_imputed'], outputCol='indp_vectors')\n",
        "indepent_feature_vectors = feature_assembler.transform(df3)\n",
        "indepent_feature_vectors.show()"
      ],
      "metadata": {
        "colab": {
          "base_uri": "https://localhost:8080/"
        },
        "id": "8mKB8t2laPNx",
        "outputId": "255b53f0-679d-428d-dcff-d669b44d8b1f"
      },
      "execution_count": null,
      "outputs": [
        {
          "output_type": "stream",
          "name": "stdout",
          "text": [
            "+------+------------+---+------------+--------------+------------+\n",
            "|  name|        work|age|year_imputed|salary_imputed|work_indexed|\n",
            "+------+------------+---+------------+--------------+------------+\n",
            "|  Huan|Postgraduate| 33|           3|         12000|         2.0|\n",
            "|  John|     manager| 23|           2|          8400|         3.0|\n",
            "|  null|    Engineer| 27|           2|          5000|         1.0|\n",
            "|   Tom|          HR| 21|           4|          8000|         0.0|\n",
            "|Hellen|          HR| 43|          10|          4400|         0.0|\n",
            "+------+------------+---+------------+--------------+------------+\n",
            "\n",
            "+------+------------+---+------------+--------------+------------+---------------+\n",
            "|  name|        work|age|year_imputed|salary_imputed|work_indexed|   indp_vectors|\n",
            "+------+------------+---+------------+--------------+------------+---------------+\n",
            "|  Huan|Postgraduate| 33|           3|         12000|         2.0| [2.0,33.0,3.0]|\n",
            "|  John|     manager| 23|           2|          8400|         3.0| [3.0,23.0,2.0]|\n",
            "|  null|    Engineer| 27|           2|          5000|         1.0| [1.0,27.0,2.0]|\n",
            "|   Tom|          HR| 21|           4|          8000|         0.0| [0.0,21.0,4.0]|\n",
            "|Hellen|          HR| 43|          10|          4400|         0.0|[0.0,43.0,10.0]|\n",
            "+------+------------+---+------------+--------------+------------+---------------+\n",
            "\n"
          ]
        }
      ]
    },
    {
      "cell_type": "code",
      "source": [
        "train_set, test_set = indepent_feature_vectors.randomSplit([0.75, 0.25])\n",
        "lr = LinearRegression(featuresCol='indp_vectors', labelCol='salary_imputed',\n",
        "                       maxIter=20, regParam=0.1)\n",
        "model = lr.fit(train_set)\n",
        "print('intercept:', model.intercept)\n",
        "print('coefficients:', model.coefficients)"
      ],
      "metadata": {
        "colab": {
          "base_uri": "https://localhost:8080/"
        },
        "id": "aMBz7laKbW4E",
        "outputId": "0ea1014f-f764-4227-8678-6a8aad9e221b"
      },
      "execution_count": null,
      "outputs": [
        {
          "output_type": "stream",
          "name": "stdout",
          "text": [
            "intercept: -11748.95964034237\n",
            "coefficients: [1833.2519640527532,305.541994049599,3333.135723427926]\n"
          ]
        }
      ]
    },
    {
      "cell_type": "code",
      "source": [
        "linearRegResult = model.transform(test_set[['indp_vectors', 'name','salary_imputed']])\n",
        "linearRegResult.show()"
      ],
      "metadata": {
        "colab": {
          "base_uri": "https://localhost:8080/"
        },
        "id": "WjgqzaOhcSZn",
        "outputId": "3c879dea-cd20-40fa-cd86-84d0954c2af4"
      },
      "execution_count": null,
      "outputs": [
        {
          "output_type": "stream",
          "name": "stdout",
          "text": [
            "+---------------+------+--------------+------------------+\n",
            "|   indp_vectors|  name|salary_imputed|        prediction|\n",
            "+---------------+------+--------------+------------------+\n",
            "|[0.0,43.0,10.0]|Hellen|          4400|34720.703338069645|\n",
            "| [3.0,23.0,2.0]|  John|          8400| 7444.533561812519|\n",
            "+---------------+------+--------------+------------------+\n",
            "\n"
          ]
        }
      ]
    },
    {
      "cell_type": "code",
      "source": [
        ""
      ],
      "metadata": {
        "colab": {
          "base_uri": "https://localhost:8080/",
          "height": 291
        },
        "id": "fGjohkGCiC3j",
        "outputId": "45adb9f5-0808-4649-d488-97d567075e31"
      },
      "execution_count": null,
      "outputs": [
        {
          "output_type": "error",
          "ename": "AttributeError",
          "evalue": "ignored",
          "traceback": [
            "\u001b[0;31m---------------------------------------------------------------------------\u001b[0m",
            "\u001b[0;31mAttributeError\u001b[0m                            Traceback (most recent call last)",
            "\u001b[0;32m<ipython-input-94-687baf5d4e1b>\u001b[0m in \u001b[0;36m<module>\u001b[0;34m()\u001b[0m\n\u001b[0;32m----> 1\u001b[0;31m \u001b[0mlinearRegResult\u001b[0m\u001b[0;34m.\u001b[0m\u001b[0mmedian\u001b[0m\u001b[0;34m\u001b[0m\u001b[0;34m\u001b[0m\u001b[0m\n\u001b[0m",
            "\u001b[0;32m/usr/local/lib/python3.7/dist-packages/pyspark/sql/dataframe.py\u001b[0m in \u001b[0;36m__getattr__\u001b[0;34m(self, name)\u001b[0m\n\u001b[1;32m   1658\u001b[0m         \u001b[0;32mif\u001b[0m \u001b[0mname\u001b[0m \u001b[0;32mnot\u001b[0m \u001b[0;32min\u001b[0m \u001b[0mself\u001b[0m\u001b[0;34m.\u001b[0m\u001b[0mcolumns\u001b[0m\u001b[0;34m:\u001b[0m\u001b[0;34m\u001b[0m\u001b[0;34m\u001b[0m\u001b[0m\n\u001b[1;32m   1659\u001b[0m             raise AttributeError(\n\u001b[0;32m-> 1660\u001b[0;31m                 \"'%s' object has no attribute '%s'\" % (self.__class__.__name__, name))\n\u001b[0m\u001b[1;32m   1661\u001b[0m         \u001b[0mjc\u001b[0m \u001b[0;34m=\u001b[0m \u001b[0mself\u001b[0m\u001b[0;34m.\u001b[0m\u001b[0m_jdf\u001b[0m\u001b[0;34m.\u001b[0m\u001b[0mapply\u001b[0m\u001b[0;34m(\u001b[0m\u001b[0mname\u001b[0m\u001b[0;34m)\u001b[0m\u001b[0;34m\u001b[0m\u001b[0;34m\u001b[0m\u001b[0m\n\u001b[1;32m   1662\u001b[0m         \u001b[0;32mreturn\u001b[0m \u001b[0mColumn\u001b[0m\u001b[0;34m(\u001b[0m\u001b[0mjc\u001b[0m\u001b[0;34m)\u001b[0m\u001b[0;34m\u001b[0m\u001b[0;34m\u001b[0m\u001b[0m\n",
            "\u001b[0;31mAttributeError\u001b[0m: 'DataFrame' object has no attribute 'median'"
          ]
        }
      ]
    },
    {
      "cell_type": "code",
      "source": [
        "df = spark.read.json(\"/tmp/sample_books.json\")\n",
        "df.select([\"title\",\"price\", \"year_written\"]).show(3)"
      ],
      "metadata": {
        "colab": {
          "base_uri": "https://localhost:8080/"
        },
        "id": "s0wNQIh6_8A0",
        "outputId": "5ff151e8-d18b-44cd-dd76-ac15ddb24cc6"
      },
      "execution_count": null,
      "outputs": [
        {
          "output_type": "stream",
          "name": "stdout",
          "text": [
            "+----------------+-----+------------+\n",
            "|           title|price|year_written|\n",
            "+----------------+-----+------------+\n",
            "|Northanger Abbey| 18.2|        1814|\n",
            "|   War and Peace| 12.7|        1865|\n",
            "|   Anna Karenina| 13.5|        1875|\n",
            "+----------------+-----+------------+\n",
            "only showing top 3 rows\n",
            "\n"
          ]
        }
      ]
    },
    {
      "cell_type": "code",
      "source": [
        "df.show()"
      ],
      "metadata": {
        "colab": {
          "base_uri": "https://localhost:8080/"
        },
        "id": "AORJ2XaCZYbm",
        "outputId": "6d50bea0-4e65-41f7-d083-296f82e1666a"
      },
      "execution_count": null,
      "outputs": [
        {
          "output_type": "stream",
          "name": "stdout",
          "text": [
            "+--------------------+-----------------+-----+--------------------+------------+\n",
            "|              author|          edition|price|               title|year_written|\n",
            "+--------------------+-----------------+-----+--------------------+------------+\n",
            "|        Austen, Jane|          Penguin| 18.2|    Northanger Abbey|        1814|\n",
            "|        Tolstoy, Leo|          Penguin| 12.7|       War and Peace|        1865|\n",
            "|        Tolstoy, Leo|          Penguin| 13.5|       Anna Karenina|        1875|\n",
            "|     Woolf, Virginia|   Harcourt Brace| 25.0|       Mrs. Dalloway|        1925|\n",
            "|Cunnningham, Michael|   Harcourt Brace|12.35|           The Hours|        1999|\n",
            "|         Twain, Mark|          Penguin| 5.76|    Huckleberry Finn|        1865|\n",
            "|    Dickens, Charles|     Random House| 5.75|         Bleak House|        1870|\n",
            "|         Twain, Mark|     Random House| 7.75|          Tom Sawyer|        1862|\n",
            "|     Woolf, Virginia|          Penguin| 29.0| A Room of One's Own|        1922|\n",
            "|       Rowling, J.K.|   Harcourt Brace|19.95|        Harry Potter|        2000|\n",
            "|             Marquez|Harper  Perennial| 14.0|One Hundred Years...|        1967|\n",
            "|         Shakespeare| Signet  Classics| 7.95|Hamlet, Prince of...|        1603|\n",
            "|       Tolkien, J.R.|          Penguin|27.45|   Lord of the Rings|        1937|\n",
            "+--------------------+-----------------+-----+--------------------+------------+\n",
            "\n"
          ]
        }
      ]
    },
    {
      "cell_type": "code",
      "source": [
        "df.select(\"title\", \"year_written\").filter(\"title LIKE '%Harry Potter%'\").distinct().show(20, False)"
      ],
      "metadata": {
        "colab": {
          "base_uri": "https://localhost:8080/"
        },
        "id": "Eds-RdfSAOCK",
        "outputId": "6bc2c342-60e8-40be-9672-5343227b6ca6"
      },
      "execution_count": null,
      "outputs": [
        {
          "output_type": "stream",
          "name": "stdout",
          "text": [
            "+------------+------------+\n",
            "|title       |year_written|\n",
            "+------------+------------+\n",
            "|Harry Potter|2000        |\n",
            "+------------+------------+\n",
            "\n"
          ]
        }
      ]
    },
    {
      "cell_type": "code",
      "source": [
        "from pyspark.sql.functions import max\n",
        "maxValue = df.agg(max(\"price\")).collect()[0][0]\n",
        "print(\"maxValue: \",maxValue)\n",
        "\n",
        "df.select(\"title\",\"price\").filter(df.price == maxValue).show(20, False)"
      ],
      "metadata": {
        "colab": {
          "base_uri": "https://localhost:8080/"
        },
        "id": "hLU46oQQARjm",
        "outputId": "5791c52c-ed21-4ca9-fa6e-b761a95c5516"
      },
      "execution_count": null,
      "outputs": [
        {
          "output_type": "stream",
          "name": "stdout",
          "text": [
            "maxValue:  29.0\n",
            "+-------------------+-----+\n",
            "|title              |price|\n",
            "+-------------------+-----+\n",
            "|A Room of One's Own|29.0 |\n",
            "+-------------------+-----+\n",
            "\n"
          ]
        }
      ]
    },
    {
      "cell_type": "code",
      "source": [
        "# convert to a pandas dataframe, so that it could be written to a single csv, instead of basing on the partitions\n",
        "df_pd = df.toPandas()\n",
        "df_pd"
      ],
      "metadata": {
        "colab": {
          "base_uri": "https://localhost:8080/",
          "height": 441
        },
        "id": "NVRqll3IBLLG",
        "outputId": "3b7e6969-2d92-4170-a9ab-37f1cbff2b8b"
      },
      "execution_count": null,
      "outputs": [
        {
          "output_type": "execute_result",
          "data": {
            "text/html": [
              "\n",
              "  <div id=\"df-1b71db81-72c4-41fb-8529-7745700117d1\">\n",
              "    <div class=\"colab-df-container\">\n",
              "      <div>\n",
              "<style scoped>\n",
              "    .dataframe tbody tr th:only-of-type {\n",
              "        vertical-align: middle;\n",
              "    }\n",
              "\n",
              "    .dataframe tbody tr th {\n",
              "        vertical-align: top;\n",
              "    }\n",
              "\n",
              "    .dataframe thead th {\n",
              "        text-align: right;\n",
              "    }\n",
              "</style>\n",
              "<table border=\"1\" class=\"dataframe\">\n",
              "  <thead>\n",
              "    <tr style=\"text-align: right;\">\n",
              "      <th></th>\n",
              "      <th>author</th>\n",
              "      <th>edition</th>\n",
              "      <th>price</th>\n",
              "      <th>title</th>\n",
              "      <th>year_written</th>\n",
              "    </tr>\n",
              "  </thead>\n",
              "  <tbody>\n",
              "    <tr>\n",
              "      <th>0</th>\n",
              "      <td>Austen, Jane</td>\n",
              "      <td>Penguin</td>\n",
              "      <td>18.20</td>\n",
              "      <td>Northanger Abbey</td>\n",
              "      <td>1814</td>\n",
              "    </tr>\n",
              "    <tr>\n",
              "      <th>1</th>\n",
              "      <td>Tolstoy, Leo</td>\n",
              "      <td>Penguin</td>\n",
              "      <td>12.70</td>\n",
              "      <td>War and Peace</td>\n",
              "      <td>1865</td>\n",
              "    </tr>\n",
              "    <tr>\n",
              "      <th>2</th>\n",
              "      <td>Tolstoy, Leo</td>\n",
              "      <td>Penguin</td>\n",
              "      <td>13.50</td>\n",
              "      <td>Anna Karenina</td>\n",
              "      <td>1875</td>\n",
              "    </tr>\n",
              "    <tr>\n",
              "      <th>3</th>\n",
              "      <td>Woolf, Virginia</td>\n",
              "      <td>Harcourt Brace</td>\n",
              "      <td>25.00</td>\n",
              "      <td>Mrs. Dalloway</td>\n",
              "      <td>1925</td>\n",
              "    </tr>\n",
              "    <tr>\n",
              "      <th>4</th>\n",
              "      <td>Cunnningham, Michael</td>\n",
              "      <td>Harcourt Brace</td>\n",
              "      <td>12.35</td>\n",
              "      <td>The Hours</td>\n",
              "      <td>1999</td>\n",
              "    </tr>\n",
              "    <tr>\n",
              "      <th>5</th>\n",
              "      <td>Twain, Mark</td>\n",
              "      <td>Penguin</td>\n",
              "      <td>5.76</td>\n",
              "      <td>Huckleberry Finn</td>\n",
              "      <td>1865</td>\n",
              "    </tr>\n",
              "    <tr>\n",
              "      <th>6</th>\n",
              "      <td>Dickens, Charles</td>\n",
              "      <td>Random House</td>\n",
              "      <td>5.75</td>\n",
              "      <td>Bleak House</td>\n",
              "      <td>1870</td>\n",
              "    </tr>\n",
              "    <tr>\n",
              "      <th>7</th>\n",
              "      <td>Twain, Mark</td>\n",
              "      <td>Random House</td>\n",
              "      <td>7.75</td>\n",
              "      <td>Tom Sawyer</td>\n",
              "      <td>1862</td>\n",
              "    </tr>\n",
              "    <tr>\n",
              "      <th>8</th>\n",
              "      <td>Woolf, Virginia</td>\n",
              "      <td>Penguin</td>\n",
              "      <td>29.00</td>\n",
              "      <td>A Room of One's Own</td>\n",
              "      <td>1922</td>\n",
              "    </tr>\n",
              "    <tr>\n",
              "      <th>9</th>\n",
              "      <td>Rowling, J.K.</td>\n",
              "      <td>Harcourt Brace</td>\n",
              "      <td>19.95</td>\n",
              "      <td>Harry Potter</td>\n",
              "      <td>2000</td>\n",
              "    </tr>\n",
              "    <tr>\n",
              "      <th>10</th>\n",
              "      <td>Marquez</td>\n",
              "      <td>Harper  Perennial</td>\n",
              "      <td>14.00</td>\n",
              "      <td>One Hundred Years of Solitude</td>\n",
              "      <td>1967</td>\n",
              "    </tr>\n",
              "    <tr>\n",
              "      <th>11</th>\n",
              "      <td>Shakespeare</td>\n",
              "      <td>Signet  Classics</td>\n",
              "      <td>7.95</td>\n",
              "      <td>Hamlet, Prince of Denmark</td>\n",
              "      <td>1603</td>\n",
              "    </tr>\n",
              "    <tr>\n",
              "      <th>12</th>\n",
              "      <td>Tolkien, J.R.</td>\n",
              "      <td>Penguin</td>\n",
              "      <td>27.45</td>\n",
              "      <td>Lord of the Rings</td>\n",
              "      <td>1937</td>\n",
              "    </tr>\n",
              "  </tbody>\n",
              "</table>\n",
              "</div>\n",
              "      <button class=\"colab-df-convert\" onclick=\"convertToInteractive('df-1b71db81-72c4-41fb-8529-7745700117d1')\"\n",
              "              title=\"Convert this dataframe to an interactive table.\"\n",
              "              style=\"display:none;\">\n",
              "        \n",
              "  <svg xmlns=\"http://www.w3.org/2000/svg\" height=\"24px\"viewBox=\"0 0 24 24\"\n",
              "       width=\"24px\">\n",
              "    <path d=\"M0 0h24v24H0V0z\" fill=\"none\"/>\n",
              "    <path d=\"M18.56 5.44l.94 2.06.94-2.06 2.06-.94-2.06-.94-.94-2.06-.94 2.06-2.06.94zm-11 1L8.5 8.5l.94-2.06 2.06-.94-2.06-.94L8.5 2.5l-.94 2.06-2.06.94zm10 10l.94 2.06.94-2.06 2.06-.94-2.06-.94-.94-2.06-.94 2.06-2.06.94z\"/><path d=\"M17.41 7.96l-1.37-1.37c-.4-.4-.92-.59-1.43-.59-.52 0-1.04.2-1.43.59L10.3 9.45l-7.72 7.72c-.78.78-.78 2.05 0 2.83L4 21.41c.39.39.9.59 1.41.59.51 0 1.02-.2 1.41-.59l7.78-7.78 2.81-2.81c.8-.78.8-2.07 0-2.86zM5.41 20L4 18.59l7.72-7.72 1.47 1.35L5.41 20z\"/>\n",
              "  </svg>\n",
              "      </button>\n",
              "      \n",
              "  <style>\n",
              "    .colab-df-container {\n",
              "      display:flex;\n",
              "      flex-wrap:wrap;\n",
              "      gap: 12px;\n",
              "    }\n",
              "\n",
              "    .colab-df-convert {\n",
              "      background-color: #E8F0FE;\n",
              "      border: none;\n",
              "      border-radius: 50%;\n",
              "      cursor: pointer;\n",
              "      display: none;\n",
              "      fill: #1967D2;\n",
              "      height: 32px;\n",
              "      padding: 0 0 0 0;\n",
              "      width: 32px;\n",
              "    }\n",
              "\n",
              "    .colab-df-convert:hover {\n",
              "      background-color: #E2EBFA;\n",
              "      box-shadow: 0px 1px 2px rgba(60, 64, 67, 0.3), 0px 1px 3px 1px rgba(60, 64, 67, 0.15);\n",
              "      fill: #174EA6;\n",
              "    }\n",
              "\n",
              "    [theme=dark] .colab-df-convert {\n",
              "      background-color: #3B4455;\n",
              "      fill: #D2E3FC;\n",
              "    }\n",
              "\n",
              "    [theme=dark] .colab-df-convert:hover {\n",
              "      background-color: #434B5C;\n",
              "      box-shadow: 0px 1px 3px 1px rgba(0, 0, 0, 0.15);\n",
              "      filter: drop-shadow(0px 1px 2px rgba(0, 0, 0, 0.3));\n",
              "      fill: #FFFFFF;\n",
              "    }\n",
              "  </style>\n",
              "\n",
              "      <script>\n",
              "        const buttonEl =\n",
              "          document.querySelector('#df-1b71db81-72c4-41fb-8529-7745700117d1 button.colab-df-convert');\n",
              "        buttonEl.style.display =\n",
              "          google.colab.kernel.accessAllowed ? 'block' : 'none';\n",
              "\n",
              "        async function convertToInteractive(key) {\n",
              "          const element = document.querySelector('#df-1b71db81-72c4-41fb-8529-7745700117d1');\n",
              "          const dataTable =\n",
              "            await google.colab.kernel.invokeFunction('convertToInteractive',\n",
              "                                                     [key], {});\n",
              "          if (!dataTable) return;\n",
              "\n",
              "          const docLinkHtml = 'Like what you see? Visit the ' +\n",
              "            '<a target=\"_blank\" href=https://colab.research.google.com/notebooks/data_table.ipynb>data table notebook</a>'\n",
              "            + ' to learn more about interactive tables.';\n",
              "          element.innerHTML = '';\n",
              "          dataTable['output_type'] = 'display_data';\n",
              "          await google.colab.output.renderOutput(dataTable, element);\n",
              "          const docLink = document.createElement('div');\n",
              "          docLink.innerHTML = docLinkHtml;\n",
              "          element.appendChild(docLink);\n",
              "        }\n",
              "      </script>\n",
              "    </div>\n",
              "  </div>\n",
              "  "
            ],
            "text/plain": [
              "                  author  ... year_written\n",
              "0           Austen, Jane  ...         1814\n",
              "1           Tolstoy, Leo  ...         1865\n",
              "2           Tolstoy, Leo  ...         1875\n",
              "3        Woolf, Virginia  ...         1925\n",
              "4   Cunnningham, Michael  ...         1999\n",
              "5            Twain, Mark  ...         1865\n",
              "6       Dickens, Charles  ...         1870\n",
              "7            Twain, Mark  ...         1862\n",
              "8        Woolf, Virginia  ...         1922\n",
              "9          Rowling, J.K.  ...         2000\n",
              "10               Marquez  ...         1967\n",
              "11           Shakespeare  ...         1603\n",
              "12         Tolkien, J.R.  ...         1937\n",
              "\n",
              "[13 rows x 5 columns]"
            ]
          },
          "metadata": {},
          "execution_count": 47
        }
      ]
    }
  ]
}