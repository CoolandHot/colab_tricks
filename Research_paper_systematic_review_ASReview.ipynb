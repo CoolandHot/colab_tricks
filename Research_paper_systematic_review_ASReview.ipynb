{
  "nbformat": 4,
  "nbformat_minor": 0,
  "metadata": {
    "colab": {
      "name": "Research paper systematic review - ASReview.ipynb",
      "provenance": [],
      "collapsed_sections": [],
      "authorship_tag": "ABX9TyNLJ7CAZFfeSlLrnNTIMdEh",
      "include_colab_link": true
    },
    "kernelspec": {
      "name": "python3",
      "display_name": "Python 3"
    },
    "language_info": {
      "name": "python"
    }
  },
  "cells": [
    {
      "cell_type": "markdown",
      "metadata": {
        "id": "view-in-github",
        "colab_type": "text"
      },
      "source": [
        "<a href=\"https://colab.research.google.com/github/CoolandHot/colab_tricks/blob/main/Research_paper_systematic_review_ASReview.ipynb\" target=\"_parent\"><img src=\"https://colab.research.google.com/assets/colab-badge.svg\" alt=\"Open In Colab\"/></a>"
      ]
    },
    {
      "cell_type": "code",
      "execution_count": null,
      "metadata": {
        "id": "B_dTWmttCDub"
      },
      "outputs": [],
      "source": [
        "%%capture\n",
        "!pip install asreview"
      ]
    },
    {
      "cell_type": "code",
      "source": [
        "#@title Use Ngrok\n",
        "!pip install pyngrok\n",
        "from pyngrok import ngrok\n",
        "ngrok.set_auth_token(\"1oBIW0kh3f69VCswQbJ6p4W0i3Z_2Ui7F4npdBqZWb1jwABZX\")\n",
        "http_tunnel = ngrok.connect(addr='7890')\n",
        "print(http_tunnel)\n",
        "!asreview lab --port 7890"
      ],
      "metadata": {
        "id": "ymztCvSuKHGG",
        "cellView": "form"
      },
      "execution_count": null,
      "outputs": []
    },
    {
      "cell_type": "code",
      "source": [
        "#@title Use LocalTunnel\n",
        "!asreview lab --port 7890 & npx localtunnel --port 7890"
      ],
      "metadata": {
        "cellView": "form",
        "id": "rNgQBPE0bIug"
      },
      "execution_count": null,
      "outputs": []
    }
  ]
}