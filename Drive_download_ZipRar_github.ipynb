{
  "nbformat": 4,
  "nbformat_minor": 0,
  "metadata": {
    "colab": {
      "name": "Drive_download_ZipRar_github.ipynb",
      "provenance": [],
      "collapsed_sections": [],
      "authorship_tag": "ABX9TyPH/ElkKd6ltlIg2qVdIzuJ",
      "include_colab_link": true
    },
    "kernelspec": {
      "name": "python3",
      "display_name": "Python 3"
    },
    "language_info": {
      "name": "python"
    }
  },
  "cells": [
    {
      "cell_type": "markdown",
      "metadata": {
        "id": "view-in-github",
        "colab_type": "text"
      },
      "source": [
        "<a href=\"https://colab.research.google.com/github/CoolandHot/colab_tricks/blob/main/Drive_download_ZipRar_github.ipynb\" target=\"_parent\"><img src=\"https://colab.research.google.com/assets/colab-badge.svg\" alt=\"Open In Colab\"/></a>"
      ]
    },
    {
      "cell_type": "code",
      "metadata": {
        "colab": {
          "base_uri": "https://localhost:8080/"
        },
        "id": "hUlAYz_NQHBo",
        "outputId": "8b24531a-a510-4c92-fca0-0210565a77ad"
      },
      "source": [
        "from google.colab import drive\n",
        "drive.mount('/content/drive')"
      ],
      "execution_count": null,
      "outputs": [
        {
          "output_type": "stream",
          "text": [
            "Mounted at /content/gdrive\n"
          ],
          "name": "stdout"
        }
      ]
    },
    {
      "cell_type": "markdown",
      "source": [
        "# Network Address Translator"
      ],
      "metadata": {
        "id": "4b9nFH2fjDIA"
      }
    },
    {
      "cell_type": "markdown",
      "source": [
        "## Colab internet penetrate\n"
      ],
      "metadata": {
        "id": "2PEaUnPuBpHz"
      }
    },
    {
      "cell_type": "code",
      "source": [
        "from google.colab import output\n",
        "import portpicker\n",
        "port = portpicker.pick_unused_port()\n",
        "# port = \"5555\"\n",
        "output.serve_kernel_port_as_window(port)"
      ],
      "metadata": {
        "id": "JfF26OvLBsB3"
      },
      "execution_count": null,
      "outputs": []
    },
    {
      "cell_type": "markdown",
      "source": [
        "## `pyngrok`"
      ],
      "metadata": {
        "id": "-GyD67krVrzq"
      }
    },
    {
      "cell_type": "code",
      "execution_count": 5,
      "metadata": {
        "id": "nf8IQwm6FrQd"
      },
      "outputs": [],
      "source": [
        "%%capture\n",
        "ngrok_token = \"<your ngrok token>\"\n",
        "port = '4050'\n",
        "\n",
        "!pip install pyngrok\n",
        "from pyngrok import ngrok\n",
        "ngrok.set_auth_token(ngrok_token)\n",
        "http_tunnel = ngrok.connect(addr=port)"
      ]
    },
    {
      "cell_type": "code",
      "source": [
        "print(http_tunnel)\n",
        "!python -m http.server {port}"
      ],
      "metadata": {
        "id": "_01MvWwupRsz"
      },
      "execution_count": null,
      "outputs": []
    },
    {
      "cell_type": "markdown",
      "metadata": {
        "id": "D-E39v06RnuP"
      },
      "source": [
        "If the above codes run into an error, the ngrok connection should be terminated mannually first. Run the below codes."
      ]
    },
    {
      "cell_type": "code",
      "execution_count": 40,
      "metadata": {
        "colab": {
          "base_uri": "https://localhost:8080/"
        },
        "id": "_QOYAaD-IyRZ",
        "outputId": "dfa33796-7807-4216-fd9b-fcc56025f9e0"
      },
      "outputs": [
        {
          "output_type": "execute_result",
          "data": {
            "text/plain": [
              "[]"
            ]
          },
          "metadata": {},
          "execution_count": 40
        }
      ],
      "source": [
        "ngrok.kill()\n",
        "ngrok.get_tunnels() # make sure the output is an empty list"
      ]
    },
    {
      "cell_type": "markdown",
      "source": [
        "## ngrok"
      ],
      "metadata": {
        "id": "bcKZ-J_0lgoU"
      }
    },
    {
      "cell_type": "code",
      "source": [
        "%%capture\n",
        "!wget https://bin.equinox.io/c/4VmDzA7iaHb/ngrok-stable-linux-amd64.zip\n",
        "!unzip ngrok-stable-linux-amd64.zip"
      ],
      "metadata": {
        "id": "T8rxNre5lats"
      },
      "execution_count": null,
      "outputs": []
    },
    {
      "cell_type": "code",
      "source": [
        "%%capture\n",
        "# run ngrok in the background\n",
        "ngrok_token = \"<your ngrok token>\"\n",
        "port = '4050'\n",
        "!nohup ./ngrok authtoken {ngrok_token}\n",
        "!nohup ./ngrok http {port} &"
      ],
      "metadata": {
        "id": "58nW8Bo5pME-"
      },
      "execution_count": null,
      "outputs": []
    },
    {
      "cell_type": "code",
      "source": [
        "# get connection URL\n",
        "!curl --silent --max-time 10 --connect-timeout 5 --show-error http://127.0.0.1:4040/api/tunnels | sed -nE 's/.*public_url\":\"https:..([^\"]*).*/\\1/p'\n",
        "\n",
        "# run server\n",
        "!python -m http.server {port}"
      ],
      "metadata": {
        "id": "x_pHnYXxqh9g"
      },
      "execution_count": null,
      "outputs": []
    },
    {
      "cell_type": "code",
      "source": [
        "# if need to register, try terminating the ngrok and run again\n",
        "!killall ngrok"
      ],
      "metadata": {
        "colab": {
          "base_uri": "https://localhost:8080/"
        },
        "id": "YU92wqaTop4q",
        "outputId": "4a6c655c-0d25-45e4-9c0b-d10901f69974"
      },
      "execution_count": 35,
      "outputs": [
        {
          "output_type": "stream",
          "name": "stdout",
          "text": [
            "ngrok: no process found\n"
          ]
        }
      ]
    },
    {
      "cell_type": "markdown",
      "metadata": {
        "id": "hqzxKRQvmyM2"
      },
      "source": [
        "# Linux file/folder commands"
      ]
    },
    {
      "cell_type": "code",
      "metadata": {
        "id": "W6EtEn8U6NWW",
        "colab": {
          "base_uri": "https://localhost:8080/"
        },
        "outputId": "9ec4c154-3079-4a6a-fe08-c71ac57fdaa4"
      },
      "source": [
        "############################################\n",
        "####### copy a file\n",
        "############################################\n",
        "%cd \"/content/gdrive/MyDrive/USYD\"\n",
        "# cp doesn't work in full path mode\n",
        "!cp green_tripdata_*.csv \"/content/\"\n",
        "%cd \"/content/\"\n",
        "\n",
        "############################################\n",
        "###########  create folders\n",
        "############################################\n",
        "!mkdir \"/content/data/\"\n",
        "\n",
        "############################################\n",
        "####### rename or move a file\n",
        "############################################\n",
        "# -v, explain what is being done\n",
        "# -f, force mode\n",
        "!mv -vf \"/content/gdrive/MyDrive/USYD/green_tripdata_2019-12.csv\" \"/content/\"\n",
        "!mv -v genome.tar GSE112653_RAW.tar\n",
        "\n",
        "############################################\n",
        "###########  Delete\n",
        "############################################\n",
        "!rm \"/content/gdrive/MyDrive/USYD/green_tripdata_2019-12.csv\"\n",
        "# delete a folder recursively along with files inside\n",
        "!rm -dr \"/content/preprocessed\"\n",
        "\n",
        "############################################\n",
        "###########  Read text file\n",
        "############################################\n",
        "!wget --continue -O /content/shakespeare.txt http://www.gutenberg.org/files/100/100-0.txt\n",
        "\n",
        "!echo \"Below is the content of this text file:\"\n",
        "!head -n5 /content/shakespeare.txt\n",
        "!echo \"...\"\n",
        "!shuf -n2 /content/shakespeare.txt # shuffle and pick 2 random lines\n",
        "!echo \"...\"\n",
        "!tail -n5 /content/shakespeare.txt"
      ],
      "execution_count": null,
      "outputs": [
        {
          "output_type": "stream",
          "text": [
            "Below is the content of this text file:\n",
            "﻿The Project Gutenberg eBook of The Complete Works of William Shakespeare, by William Shakespeare\n",
            "\n",
            "This eBook is for the use of anyone anywhere in the United States and\n",
            "most other parts of the world at no cost and with almost no restrictions\n",
            "whatsoever. You may copy it, give it away or re-use it under the terms\n",
            "...\n",
            "Much under him; of him I gather’d honour,\n",
            "In three our kingdom: and ’tis our fast intent\n",
            "...\n",
            "including how to make donations to the Project Gutenberg Literary\n",
            "Archive Foundation, how to help produce our new eBooks, and how to\n",
            "subscribe to our email newsletter to hear about new eBooks.\n",
            "\n",
            "\n"
          ],
          "name": "stdout"
        }
      ]
    },
    {
      "cell_type": "markdown",
      "metadata": {
        "id": "dm24iYYuIjLg"
      },
      "source": [
        "# Download"
      ]
    },
    {
      "cell_type": "markdown",
      "metadata": {
        "id": "8_8om7ZLIx5R"
      },
      "source": [
        "for direct download of google drive shared file:\n",
        "\n",
        "https://drive.google.com/file/d/1x22jwFi2tdqMaUfFtQZENOgTMrhqaBcZ\n",
        "\n",
        "change the \"file/d/\" to \"uc?id=\"\n",
        "\n",
        "https://drive.google.com/uc?id=1x22jwFi2tdqMaUfFtQZENOgTMrhqaBcZ"
      ]
    },
    {
      "cell_type": "code",
      "metadata": {
        "id": "dkb5f3gVyCYU"
      },
      "source": [
        "############################################\n",
        "###### wget (https://www.computerhope.com/unix/wget.htm)\n",
        "############################################\n",
        "# download to a directory\n",
        "! wget \"https://nyc-tlc.s3.amazonaws.com/trip+data/green_tripdata_2019-12.csv\" -P \"/content/gdrive/MyDrive/USYD\"\n",
        "# download to a specific file name\n",
        "!wget -O GSE112653_RAW.tar \"https://www.ncbi.nlm.nih.gov/geo/download/?acc=GSE112653&format=file\"\n",
        "\n",
        "############################################\n",
        "############   gdown\n",
        "############################################\n",
        "# download to a specific file name\n",
        "!gdown -O GSE112653_RAW.tar \"https://www.ncbi.nlm.nih.gov/geo/download/?acc=GSE112653&format=file\"\n",
        "# download from google share\n",
        "!gdown --id \"1iYTIMk6rJy3AgIDS4cBrxRSQMNb5KRAI\"\n",
        "\n",
        "\n",
        "############################################\n",
        "##########  python requests\n",
        "############################################\n",
        "import requests\n",
        "r = requests.get(\"https://www.ncbi.nlm.nih.gov/geo/download/?acc=GSE112653&format=file\", stream = True)\n",
        "with open(\"GSE112653_RAW.tar\", \"wb\") as file: \n",
        "    file.write(r.content)"
      ],
      "execution_count": null,
      "outputs": []
    },
    {
      "cell_type": "markdown",
      "metadata": {
        "id": "6ctaHk6kVlrL"
      },
      "source": [
        "### PyDrive"
      ]
    },
    {
      "cell_type": "code",
      "metadata": {
        "id": "6AHd8fTvVoD0"
      },
      "source": [
        "!pip install -U -q PyDrive\n",
        "from pydrive.auth import GoogleAuth\n",
        "from pydrive.drive import GoogleDrive\n",
        "from google.colab import auth\n",
        "from oauth2client.client import GoogleCredentials\n",
        "# Authenticate and create the PyDrive client.\n",
        "auth.authenticate_user()\n",
        "gauth = GoogleAuth()\n",
        "gauth.credentials = GoogleCredentials.get_application_default()\n",
        "drive = GoogleDrive(gauth)\n",
        "downloaded = drive.CreateFile({'id':'1B47OiEiG2Lo1jUY6hy_zMmHBxfKQuJ8-'}) \n",
        "downloaded.GetContentFile('ted_en-20160408.xml') # need to specify a file name"
      ],
      "execution_count": null,
      "outputs": []
    },
    {
      "cell_type": "markdown",
      "metadata": {
        "id": "STMCZJMF3M1H"
      },
      "source": [
        "# Github\n"
      ]
    },
    {
      "cell_type": "markdown",
      "metadata": {
        "id": "4vwiyltM4r69"
      },
      "source": [
        "## whole project"
      ]
    },
    {
      "cell_type": "code",
      "metadata": {
        "id": "w4YyFMTC3R-q"
      },
      "source": [
        "!git clone https://github.com/yumoxu/stocknet-dataset"
      ],
      "execution_count": null,
      "outputs": []
    },
    {
      "cell_type": "markdown",
      "metadata": {
        "id": "Vh2deic04q-X"
      },
      "source": [
        "## a folder\n",
        "\n",
        "https://github.com/yumoxu/stocknet-dataset/tree/master/price/preprocessed/\n",
        "\n",
        "replace the link <font color=\"red\">\"tree/master\" (or sometimes is a branch, not master) with \"trunk\"</font>"
      ]
    },
    {
      "cell_type": "code",
      "metadata": {
        "id": "Hev3l0qP3meo"
      },
      "source": [
        "%%capture\n",
        "!apt install subversion\n",
        "!svn co https://github.com/yumoxu/stocknet-dataset/trunk/price/preprocessed/"
      ],
      "execution_count": null,
      "outputs": []
    },
    {
      "cell_type": "markdown",
      "metadata": {
        "id": "wWOclkD40b3p"
      },
      "source": [
        "# Zip/ Rar/ Tar\n"
      ]
    },
    {
      "cell_type": "code",
      "metadata": {
        "id": "V2NpK9YK0e0a"
      },
      "source": [
        "############################################\n",
        "###########  zip\n",
        "############################################\n",
        "\n",
        "#**************** 😀 decompress 😀 **************** \n",
        "!unzip \"/content/drive/path/input_file_name.zip\" -d \"/content/drive/path/output_folder/\"\n",
        "\n",
        "#**************** 😀 compress 😀 **************** \n",
        "!zip \"/content/drive/path/output_file_name.zip\" \"/content/drive/My Drive/Tutorial/games\"\n",
        "\n",
        "\n",
        "\n",
        "\n",
        "############################################\n",
        "###########  rar\n",
        "############################################\n",
        "\n",
        "#**************** 😀 decompress 😀 **************** \n",
        "# -Y: need password\n",
        "!pip install unrar\n",
        "!unrar x \"/content/drive/path/input_file_name.rar\" \"/content/drive/path/output_folder/\"\n",
        "# !unrar x -Y \"/content/drive/path/input_file_name.rar\" \"/content/drive/path/output_folder/\"\n",
        "\n",
        "#**************** 😀 compress 😀 **************** \n",
        "!apt-get install rar\n",
        "# ! don't add .rar to the end of output_file_name\n",
        "!rar a \"/content/drive/path/output_file_name\" \"/content/drive/path/input_file_or_folder\"\n",
        "\n",
        "# -p password protected\n",
        "!rar a -p \"/content/drive/path/output_file_name\" \"/content/drive/path/input_file_or_folder\"\n",
        "\n",
        "\n",
        "\n",
        "\n",
        "############################################\n",
        "###########  tar\n",
        "############################################\n",
        "#  -v : Verbose output or show progress while extracting files.\n",
        "#  -f : Specify an archive or a tarball filename.\n",
        "#  -C : Specify a different directory to extract\n",
        "#  -z : Decompress and extract the contents of the compressed archive created by gzip program (tar.gz extension).\n",
        "#  -j : Decompress and extract the contents of the compressed archive created by bzip2 program (tar.bz2 extension).\n",
        "\n",
        "#**************** 😀 decompress 😀 **************** \n",
        "#  -x : Extract a tar ball.\n",
        "!tar -xvf \"/content/drive/path/input_file_name.tar\" -C \"/content/drive/path/output_folder/\"\n",
        "!tar -xzvf \"/content/drive/path/input_file_name.tar.gz\" -C \"/content/drive/path/output_folder/\"\n",
        "!tar -xjvf \"/content/drive/path/input_file_name.tar.bz2\" -C \"/content/drive/path/output_folder/\"\n",
        "\n",
        "#**************** 😀 compress 😀 **************** \n",
        "#  -c : Create a new archive\n",
        "!tar -cvf \"/content/drive/path/output_file_name.tar\" \"/content/drive/path/input_file_or_folder\"\n",
        "!tar -czvf \"/content/drive/path/output_file_name.tar.gz\" \"/content/drive/path/input_file_or_folder\"\n",
        "!tar -cjvf \"/content/drive/path/output_file_name.tar.bz2\" \"/content/drive/path/input_file_or_folder\""
      ],
      "execution_count": null,
      "outputs": []
    },
    {
      "cell_type": "markdown",
      "metadata": {
        "id": "Gj80SRetVJV5"
      },
      "source": [
        "for those unrecognised .gz files, use `gzip` to decompress directly, it will delete the original .gz file at the same time."
      ]
    },
    {
      "cell_type": "code",
      "metadata": {
        "id": "mU_vwqnOVI_Y"
      },
      "source": [
        "!gzip -d \"/content/drive/path/output_file_name.tar.gz\""
      ],
      "execution_count": null,
      "outputs": []
    }
  ]
}