{
  "nbformat": 4,
  "nbformat_minor": 0,
  "metadata": {
    "colab": {
      "name": "twitter-scraping with snscrape.ipynb",
      "provenance": [],
      "collapsed_sections": [],
      "include_colab_link": true
    },
    "kernelspec": {
      "name": "python3",
      "display_name": "Python 3"
    },
    "language_info": {
      "name": "python"
    }
  },
  "cells": [
    {
      "cell_type": "markdown",
      "metadata": {
        "id": "view-in-github",
        "colab_type": "text"
      },
      "source": [
        "<a href=\"https://colab.research.google.com/github/CoolandHot/colab_tricks/blob/main/twitter_scraping_with_snscrape.ipynb\" target=\"_parent\"><img src=\"https://colab.research.google.com/assets/colab-badge.svg\" alt=\"Open In Colab\"/></a>"
      ]
    },
    {
      "cell_type": "code",
      "source": [
        "%%capture\n",
        "!apt-get update -y\n",
        "!apt-get install python3.8\n",
        "!apt-get install python3-pip\n",
        "#change alternatives\n",
        "!update-alternatives --install /usr/bin/python3 python3 /usr/bin/python3.7 1\n",
        "!update-alternatives --install /usr/bin/python3 python3 /usr/bin/python3.8 3\n",
        "# mannually choose config\n",
        "# !update-alternatives --config python3\n",
        "!python -m pip install --upgrade pip\n",
        "!pip3 install git+https://github.com/JustAnotherArchivist/snscrape.git\n",
        "!pip3 install pandas"
      ],
      "metadata": {
        "id": "tW4HxeDHcqtj"
      },
      "execution_count": null,
      "outputs": []
    },
    {
      "cell_type": "code",
      "source": [
        "!python3 --version"
      ],
      "metadata": {
        "colab": {
          "base_uri": "https://localhost:8080/"
        },
        "id": "rnZSrKfHdzxk",
        "outputId": "91329912-9bd6-435f-b0a3-ec3e0d0b5c2c"
      },
      "execution_count": null,
      "outputs": [
        {
          "output_type": "stream",
          "name": "stdout",
          "text": [
            "Python 3.8.12\n"
          ]
        }
      ]
    },
    {
      "cell_type": "code",
      "source": [
        "!snscrape --help"
      ],
      "metadata": {
        "id": "rKS3iKtMrUSO"
      },
      "execution_count": null,
      "outputs": []
    },
    {
      "cell_type": "code",
      "source": [
        "!snscrape twitter-hashtag --help"
      ],
      "metadata": {
        "id": "jdPUztxrrrkV"
      },
      "execution_count": null,
      "outputs": []
    },
    {
      "cell_type": "markdown",
      "source": [
        "[options for format](https://github.com/JustAnotherArchivist/snscrape/issues/175#issuecomment-751534691)\n",
        "`--format '{url} {content!r}'`, using `!r` can call `repr()` internally to print the newlines and quoted strings"
      ],
      "metadata": {
        "id": "JHs7KB-UvuQV"
      }
    },
    {
      "cell_type": "markdown",
      "source": [
        "# CLI"
      ],
      "metadata": {
        "id": "WOLoVTyJzcTz"
      }
    },
    {
      "cell_type": "code",
      "source": [
        "search_term = 'Bhavesh Bhatt Data Scientist'\n",
        "end_date = '2021-12-12'\n",
        "max_result = 10\n",
        "since_date = '2019-01-01'\n",
        "out_file = \"extracted-tweets.txt\"\n",
        "\n",
        "!snscrape --jsonl --max-results {max_result}  --since {since_date} twitter-search '{search_term} until:{end_date}' > {out_file}\n",
        "\n",
        "!head -n3 {out_file}"
      ],
      "metadata": {
        "colab": {
          "base_uri": "https://localhost:8080/"
        },
        "id": "ouF971rPkvqx",
        "outputId": "2ddd4d79-ae1f-46c4-89a5-7d81c0d3c391"
      },
      "execution_count": null,
      "outputs": [
        {
          "output_type": "stream",
          "name": "stdout",
          "text": [
            "{\"_type\": \"snscrape.modules.twitter.Tweet\", \"url\": \"https://twitter.com/wtm_sohar/status/1383695774500855810\", \"date\": \"2021-04-18T08:15:55+00:00\", \"content\": \"\\ud83d\\udea8Tech Talk of the Week alert!\\n\\nLearn about TensorFlow Hub by joining the session hosted by Machine Learning GDE, and Data Scientist, Bhavesh Bhatt.\\n\\nThis event will start at 8 PM Oman time\\n\\nJoin by clicking the link below!\\nhttps://t.co/CO6S9i6NfL\\n\\n#CourageToCreate #IWD #WTM https://t.co/4zKKFtfuhC https://t.co/qs8N3SwYW3\", \"renderedContent\": \"\\ud83d\\udea8Tech Talk of the Week alert!\\n\\nLearn about TensorFlow Hub by joining the session hosted by Machine Learning GDE, and Data Scientist, Bhavesh Bhatt.\\n\\nThis event will start at 8 PM Oman time\\n\\nJoin by clicking the link below!\\ngdg.community.dev/j/wdvgaaarxu94\\u2026\\n\\n#CourageToCreate #IWD #WTM twitter.com/wtm_sohar/stat\\u2026 https://t.co/qs8N3SwYW3\", \"id\": 1383695774500855810, \"user\": {\"_type\": \"snscrape.modules.twitter.User\", \"username\": \"wtm_sohar\", \"id\": 1366465654598074371, \"displayname\": \"Women Techmakers Sohar\", \"description\": \"@Google's global program dedicated to helping women thrive in tech through visibility, community, & resources. || #WTM_sohar\", \"rawDescription\": \"@Google's global program dedicated to helping women thrive in tech through visibility, community, & resources. || #WTM_sohar\", \"descriptionUrls\": null, \"verified\": false, \"created\": \"2021-03-01T19:10:12+00:00\", \"followersCount\": 25, \"friendsCount\": 17, \"statusesCount\": 181, \"favouritesCount\": 46, \"listedCount\": 0, \"mediaCount\": 104, \"location\": \"Oman\", \"protected\": false, \"linkUrl\": \"http://meet.google.com/eeo-pwmt-oac\", \"linkTcourl\": \"https://t.co/v5k8o3cHar\", \"profileImageUrl\": \"https://pbs.twimg.com/profile_images/1366466052322975752/4gTliAW1_normal.jpg\", \"profileBannerUrl\": \"https://pbs.twimg.com/profile_banners/1366465654598074371/1614626105\", \"label\": null, \"url\": \"https://twitter.com/wtm_sohar\"}, \"replyCount\": 0, \"retweetCount\": 4, \"likeCount\": 3, \"quoteCount\": 1, \"conversationId\": 1383695774500855810, \"lang\": \"en\", \"source\": \"<a href=\\\"https://mobile.twitter.com\\\" rel=\\\"nofollow\\\">Twitter Web App</a>\", \"sourceUrl\": \"https://mobile.twitter.com\", \"sourceLabel\": \"Twitter Web App\", \"outlinks\": [\"https://gdg.community.dev/j/wdvgaaarxu94d/\", \"https://twitter.com/wtm_sohar/status/1381993541388414984\"], \"tcooutlinks\": [\"https://t.co/CO6S9i6NfL\", \"https://t.co/4zKKFtfuhC\"], \"media\": [{\"_type\": \"snscrape.modules.twitter.Photo\", \"previewUrl\": \"https://pbs.twimg.com/media/EzPdyOjVIAcCnwu?format=jpg&name=small\", \"fullUrl\": \"https://pbs.twimg.com/media/EzPdyOjVIAcCnwu?format=jpg&name=large\"}], \"retweetedTweet\": null, \"quotedTweet\": {\"_type\": \"snscrape.modules.twitter.Tweet\", \"url\": \"https://twitter.com/wtm_sohar/status/1381993541388414984\", \"date\": \"2021-04-13T15:31:51+00:00\", \"content\": \"This Sunday, April 18\\n\\n\\ud83d\\udcbeTech Talk Time!\\n\\nFrom 8 to 9PM GST, learn about TFHub\\n\\nTensorFlow Hub is an open repository &amp; library for reusable machine learning. Come join Machine Learning GDE &amp; Data Scientist, Bhavesh Bhatt!\\n\\nJoin!\\nhttps://t.co/CO6S9hPcod\\n\\n#CourageToCreate #IWD #WTM https://t.co/VWy6aCJ6g1\", \"renderedContent\": \"This Sunday, April 18\\n\\n\\ud83d\\udcbeTech Talk Time!\\n\\nFrom 8 to 9PM GST, learn about TFHub\\n\\nTensorFlow Hub is an open repository &amp; library for reusable machine learning. Come join Machine Learning GDE &amp; Data Scientist, Bhavesh Bhatt!\\n\\nJoin!\\ngdg.community.dev/j/wdvgaaarxu94\\u2026\\n\\n#CourageToCreate #IWD #WTM https://t.co/VWy6aCJ6g1\", \"id\": 1381993541388414984, \"user\": {\"_type\": \"snscrape.modules.twitter.User\", \"username\": \"wtm_sohar\", \"id\": 1366465654598074371, \"displayname\": \"Women Techmakers Sohar\", \"description\": \"@Google's global program dedicated to helping women thrive in tech through visibility, community, & resources. || #WTM_sohar\", \"rawDescription\": \"@Google's global program dedicated to helping women thrive in tech through visibility, community, & resources. || #WTM_sohar\", \"descriptionUrls\": null, \"verified\": false, \"created\": \"2021-03-01T19:10:12+00:00\", \"followersCount\": 25, \"friendsCount\": 17, \"statusesCount\": 181, \"favouritesCount\": 46, \"listedCount\": 0, \"mediaCount\": 104, \"location\": \"Oman\", \"protected\": false, \"linkUrl\": \"http://meet.google.com/eeo-pwmt-oac\", \"linkTcourl\": \"https://t.co/v5k8o3cHar\", \"profileImageUrl\": \"https://pbs.twimg.com/profile_images/1366466052322975752/4gTliAW1_normal.jpg\", \"profileBannerUrl\": \"https://pbs.twimg.com/profile_banners/1366465654598074371/1614626105\", \"label\": null, \"url\": \"https://twitter.com/wtm_sohar\"}, \"replyCount\": 1, \"retweetCount\": 1, \"likeCount\": 0, \"quoteCount\": 1, \"conversationId\": 1381993541388414984, \"lang\": \"en\", \"source\": \"<a href=\\\"https://mobile.twitter.com\\\" rel=\\\"nofollow\\\">Twitter Web App</a>\", \"sourceUrl\": \"https://mobile.twitter.com\", \"sourceLabel\": \"Twitter Web App\", \"outlinks\": [\"https://gdg.community.dev/j/wdvgaaarxu94d/\"], \"tcooutlinks\": [\"https://t.co/CO6S9hPcod\"], \"media\": [{\"_type\": \"snscrape.modules.twitter.Photo\", \"previewUrl\": \"https://pbs.twimg.com/media/Ey3TruYWUAIb94J?format=jpg&name=small\", \"fullUrl\": \"https://pbs.twimg.com/media/Ey3TruYWUAIb94J?format=jpg&name=large\"}], \"retweetedTweet\": null, \"quotedTweet\": null, \"inReplyToTweetId\": null, \"inReplyToUser\": null, \"mentionedUsers\": null, \"coordinates\": null, \"place\": null, \"hashtags\": [\"CourageToCreate\", \"IWD\", \"WTM\"], \"cashtags\": null}, \"inReplyToTweetId\": null, \"inReplyToUser\": null, \"mentionedUsers\": null, \"coordinates\": null, \"place\": null, \"hashtags\": [\"CourageToCreate\", \"IWD\", \"WTM\"], \"cashtags\": null}\n",
            "{\"_type\": \"snscrape.modules.twitter.Tweet\", \"url\": \"https://twitter.com/wtm_sohar/status/1381993541388414984\", \"date\": \"2021-04-13T15:31:51+00:00\", \"content\": \"This Sunday, April 18\\n\\n\\ud83d\\udcbeTech Talk Time!\\n\\nFrom 8 to 9PM GST, learn about TFHub\\n\\nTensorFlow Hub is an open repository &amp; library for reusable machine learning. Come join Machine Learning GDE &amp; Data Scientist, Bhavesh Bhatt!\\n\\nJoin!\\nhttps://t.co/CO6S9hPcod\\n\\n#CourageToCreate #IWD #WTM https://t.co/VWy6aCJ6g1\", \"renderedContent\": \"This Sunday, April 18\\n\\n\\ud83d\\udcbeTech Talk Time!\\n\\nFrom 8 to 9PM GST, learn about TFHub\\n\\nTensorFlow Hub is an open repository &amp; library for reusable machine learning. Come join Machine Learning GDE &amp; Data Scientist, Bhavesh Bhatt!\\n\\nJoin!\\ngdg.community.dev/j/wdvgaaarxu94\\u2026\\n\\n#CourageToCreate #IWD #WTM https://t.co/VWy6aCJ6g1\", \"id\": 1381993541388414984, \"user\": {\"_type\": \"snscrape.modules.twitter.User\", \"username\": \"wtm_sohar\", \"id\": 1366465654598074371, \"displayname\": \"Women Techmakers Sohar\", \"description\": \"@Google's global program dedicated to helping women thrive in tech through visibility, community, & resources. || #WTM_sohar\", \"rawDescription\": \"@Google's global program dedicated to helping women thrive in tech through visibility, community, & resources. || #WTM_sohar\", \"descriptionUrls\": null, \"verified\": false, \"created\": \"2021-03-01T19:10:12+00:00\", \"followersCount\": 25, \"friendsCount\": 17, \"statusesCount\": 181, \"favouritesCount\": 46, \"listedCount\": 0, \"mediaCount\": 104, \"location\": \"Oman\", \"protected\": false, \"linkUrl\": \"http://meet.google.com/eeo-pwmt-oac\", \"linkTcourl\": \"https://t.co/v5k8o3cHar\", \"profileImageUrl\": \"https://pbs.twimg.com/profile_images/1366466052322975752/4gTliAW1_normal.jpg\", \"profileBannerUrl\": \"https://pbs.twimg.com/profile_banners/1366465654598074371/1614626105\", \"label\": null, \"url\": \"https://twitter.com/wtm_sohar\"}, \"replyCount\": 1, \"retweetCount\": 1, \"likeCount\": 0, \"quoteCount\": 1, \"conversationId\": 1381993541388414984, \"lang\": \"en\", \"source\": \"<a href=\\\"https://mobile.twitter.com\\\" rel=\\\"nofollow\\\">Twitter Web App</a>\", \"sourceUrl\": \"https://mobile.twitter.com\", \"sourceLabel\": \"Twitter Web App\", \"outlinks\": [\"https://gdg.community.dev/j/wdvgaaarxu94d/\"], \"tcooutlinks\": [\"https://t.co/CO6S9hPcod\"], \"media\": [{\"_type\": \"snscrape.modules.twitter.Photo\", \"previewUrl\": \"https://pbs.twimg.com/media/Ey3TruYWUAIb94J?format=jpg&name=small\", \"fullUrl\": \"https://pbs.twimg.com/media/Ey3TruYWUAIb94J?format=jpg&name=large\"}], \"retweetedTweet\": null, \"quotedTweet\": null, \"inReplyToTweetId\": null, \"inReplyToUser\": null, \"mentionedUsers\": null, \"coordinates\": null, \"place\": null, \"hashtags\": [\"CourageToCreate\", \"IWD\", \"WTM\"], \"cashtags\": null}\n",
            "{\"_type\": \"snscrape.modules.twitter.Tweet\", \"url\": \"https://twitter.com/trumpathon/status/1242119545390841857\", \"date\": \"2020-03-23T16:02:31+00:00\", \"content\": \"Data Science Career | How to Transition to Data Science with Data Scientist Bhavesh Bhatt |GreyAtom https://t.co/ocZCP6LCeM\", \"renderedContent\": \"Data Science Career | How to Transition to Data Science with Data Scientist Bhavesh Bhatt |GreyAtom trumpathon.com/data-science-c\\u2026\", \"id\": 1242119545390841857, \"user\": {\"_type\": \"snscrape.modules.twitter.User\", \"username\": \"trumpathon\", \"id\": 2303652506, \"displayname\": \"Emperor High-Sky\", \"description\": \"In the end, was it meaningful?\", \"rawDescription\": \"In the end, was it meaningful?\", \"descriptionUrls\": null, \"verified\": false, \"created\": \"2014-01-21T20:12:54+00:00\", \"followersCount\": 788, \"friendsCount\": 389, \"statusesCount\": 298929, \"favouritesCount\": 379, \"listedCount\": 13, \"mediaCount\": 76785, \"location\": \"\", \"protected\": false, \"linkUrl\": null, \"linkTcourl\": null, \"profileImageUrl\": \"https://pbs.twimg.com/profile_images/835521451310493696/m9w442dK_normal.jpg\", \"profileBannerUrl\": \"https://pbs.twimg.com/profile_banners/2303652506/1488039120\", \"label\": null, \"url\": \"https://twitter.com/trumpathon\"}, \"replyCount\": 0, \"retweetCount\": 1, \"likeCount\": 0, \"quoteCount\": 0, \"conversationId\": 1242119545390841857, \"lang\": \"en\", \"source\": \"<a href=\\\"http://publicize.wp.com/\\\" rel=\\\"nofollow\\\">WordPress.com</a>\", \"sourceUrl\": \"http://publicize.wp.com/\", \"sourceLabel\": \"WordPress.com\", \"outlinks\": [\"http://trumpathon.com/data-science-career-how-to-transition-to-data-science-with-data-scientist-bhavesh-bhatt-greyatom/\"], \"tcooutlinks\": [\"https://t.co/ocZCP6LCeM\"], \"media\": null, \"retweetedTweet\": null, \"quotedTweet\": null, \"inReplyToTweetId\": null, \"inReplyToUser\": null, \"mentionedUsers\": null, \"coordinates\": null, \"place\": null, \"hashtags\": null, \"cashtags\": null}\n"
          ]
        }
      ]
    },
    {
      "cell_type": "code",
      "source": [
        "import pandas as pd\n",
        "pd.read_json(out_file, lines=True)"
      ],
      "metadata": {
        "colab": {
          "base_uri": "https://localhost:8080/",
          "height": 312
        },
        "id": "Vy5x2HNttJK-",
        "outputId": "391e5875-7e0a-4b86-93fe-1a674add32f4"
      },
      "execution_count": null,
      "outputs": [
        {
          "output_type": "execute_result",
          "data": {
            "text/html": [
              "<div>\n",
              "<style scoped>\n",
              "    .dataframe tbody tr th:only-of-type {\n",
              "        vertical-align: middle;\n",
              "    }\n",
              "\n",
              "    .dataframe tbody tr th {\n",
              "        vertical-align: top;\n",
              "    }\n",
              "\n",
              "    .dataframe thead th {\n",
              "        text-align: right;\n",
              "    }\n",
              "</style>\n",
              "<table border=\"1\" class=\"dataframe\">\n",
              "  <thead>\n",
              "    <tr style=\"text-align: right;\">\n",
              "      <th></th>\n",
              "      <th>_type</th>\n",
              "      <th>url</th>\n",
              "      <th>date</th>\n",
              "      <th>content</th>\n",
              "      <th>renderedContent</th>\n",
              "      <th>id</th>\n",
              "      <th>user</th>\n",
              "      <th>replyCount</th>\n",
              "      <th>retweetCount</th>\n",
              "      <th>likeCount</th>\n",
              "      <th>quoteCount</th>\n",
              "      <th>conversationId</th>\n",
              "      <th>lang</th>\n",
              "      <th>source</th>\n",
              "      <th>sourceUrl</th>\n",
              "      <th>sourceLabel</th>\n",
              "      <th>outlinks</th>\n",
              "      <th>tcooutlinks</th>\n",
              "      <th>media</th>\n",
              "      <th>retweetedTweet</th>\n",
              "      <th>quotedTweet</th>\n",
              "      <th>inReplyToTweetId</th>\n",
              "      <th>inReplyToUser</th>\n",
              "      <th>mentionedUsers</th>\n",
              "      <th>coordinates</th>\n",
              "      <th>place</th>\n",
              "      <th>hashtags</th>\n",
              "      <th>cashtags</th>\n",
              "    </tr>\n",
              "  </thead>\n",
              "  <tbody>\n",
              "    <tr>\n",
              "      <th>0</th>\n",
              "      <td>snscrape.modules.twitter.Tweet</td>\n",
              "      <td>https://twitter.com/wtm_sohar/status/138369577...</td>\n",
              "      <td>2021-04-18 08:15:55+00:00</td>\n",
              "      <td>🚨Tech Talk of the Week alert!\\n\\nLearn about T...</td>\n",
              "      <td>🚨Tech Talk of the Week alert!\\n\\nLearn about T...</td>\n",
              "      <td>1383695774500855810</td>\n",
              "      <td>{'_type': 'snscrape.modules.twitter.User', 'us...</td>\n",
              "      <td>0</td>\n",
              "      <td>4</td>\n",
              "      <td>3</td>\n",
              "      <td>1</td>\n",
              "      <td>1383695774500855810</td>\n",
              "      <td>en</td>\n",
              "      <td>&lt;a href=\"https://mobile.twitter.com\" rel=\"nofo...</td>\n",
              "      <td>https://mobile.twitter.com</td>\n",
              "      <td>Twitter Web App</td>\n",
              "      <td>[https://gdg.community.dev/j/wdvgaaarxu94d/, h...</td>\n",
              "      <td>[https://t.co/CO6S9i6NfL, https://t.co/4zKKFtf...</td>\n",
              "      <td>[{'_type': 'snscrape.modules.twitter.Photo', '...</td>\n",
              "      <td>NaN</td>\n",
              "      <td>{'_type': 'snscrape.modules.twitter.Tweet', 'u...</td>\n",
              "      <td>NaN</td>\n",
              "      <td>NaN</td>\n",
              "      <td>NaN</td>\n",
              "      <td>NaN</td>\n",
              "      <td>NaN</td>\n",
              "      <td>[CourageToCreate, IWD, WTM]</td>\n",
              "      <td>NaN</td>\n",
              "    </tr>\n",
              "    <tr>\n",
              "      <th>1</th>\n",
              "      <td>snscrape.modules.twitter.Tweet</td>\n",
              "      <td>https://twitter.com/wtm_sohar/status/138199354...</td>\n",
              "      <td>2021-04-13 15:31:51+00:00</td>\n",
              "      <td>This Sunday, April 18\\n\\n💾Tech Talk Time!\\n\\nF...</td>\n",
              "      <td>This Sunday, April 18\\n\\n💾Tech Talk Time!\\n\\nF...</td>\n",
              "      <td>1381993541388414984</td>\n",
              "      <td>{'_type': 'snscrape.modules.twitter.User', 'us...</td>\n",
              "      <td>1</td>\n",
              "      <td>1</td>\n",
              "      <td>0</td>\n",
              "      <td>1</td>\n",
              "      <td>1381993541388414984</td>\n",
              "      <td>en</td>\n",
              "      <td>&lt;a href=\"https://mobile.twitter.com\" rel=\"nofo...</td>\n",
              "      <td>https://mobile.twitter.com</td>\n",
              "      <td>Twitter Web App</td>\n",
              "      <td>[https://gdg.community.dev/j/wdvgaaarxu94d/]</td>\n",
              "      <td>[https://t.co/CO6S9hPcod]</td>\n",
              "      <td>[{'_type': 'snscrape.modules.twitter.Photo', '...</td>\n",
              "      <td>NaN</td>\n",
              "      <td>None</td>\n",
              "      <td>NaN</td>\n",
              "      <td>NaN</td>\n",
              "      <td>NaN</td>\n",
              "      <td>NaN</td>\n",
              "      <td>NaN</td>\n",
              "      <td>[CourageToCreate, IWD, WTM]</td>\n",
              "      <td>NaN</td>\n",
              "    </tr>\n",
              "    <tr>\n",
              "      <th>2</th>\n",
              "      <td>snscrape.modules.twitter.Tweet</td>\n",
              "      <td>https://twitter.com/trumpathon/status/12421195...</td>\n",
              "      <td>2020-03-23 16:02:31+00:00</td>\n",
              "      <td>Data Science Career | How to Transition to Dat...</td>\n",
              "      <td>Data Science Career | How to Transition to Dat...</td>\n",
              "      <td>1242119545390841857</td>\n",
              "      <td>{'_type': 'snscrape.modules.twitter.User', 'us...</td>\n",
              "      <td>0</td>\n",
              "      <td>1</td>\n",
              "      <td>0</td>\n",
              "      <td>0</td>\n",
              "      <td>1242119545390841857</td>\n",
              "      <td>en</td>\n",
              "      <td>&lt;a href=\"http://publicize.wp.com/\" rel=\"nofoll...</td>\n",
              "      <td>http://publicize.wp.com/</td>\n",
              "      <td>WordPress.com</td>\n",
              "      <td>[http://trumpathon.com/data-science-career-how...</td>\n",
              "      <td>[https://t.co/ocZCP6LCeM]</td>\n",
              "      <td>None</td>\n",
              "      <td>NaN</td>\n",
              "      <td>None</td>\n",
              "      <td>NaN</td>\n",
              "      <td>NaN</td>\n",
              "      <td>NaN</td>\n",
              "      <td>NaN</td>\n",
              "      <td>NaN</td>\n",
              "      <td>None</td>\n",
              "      <td>NaN</td>\n",
              "    </tr>\n",
              "  </tbody>\n",
              "</table>\n",
              "</div>"
            ],
            "text/plain": [
              "                            _type  ... cashtags\n",
              "0  snscrape.modules.twitter.Tweet  ...      NaN\n",
              "1  snscrape.modules.twitter.Tweet  ...      NaN\n",
              "2  snscrape.modules.twitter.Tweet  ...      NaN\n",
              "\n",
              "[3 rows x 28 columns]"
            ]
          },
          "metadata": {},
          "execution_count": 26
        }
      ]
    },
    {
      "cell_type": "markdown",
      "metadata": {
        "id": "MWWTBnwS4Ofr"
      },
      "source": [
        "# in Python\n",
        "\n",
        "Because Colab's bash shell has been opened in this session, there's no way to restart the shell for virtual environment, nor connect to a newly add PYTHONPATH for package list."
      ]
    },
    {
      "cell_type": "code",
      "metadata": {
        "id": "d8uHfSmwzhDG",
        "colab": {
          "base_uri": "https://localhost:8080/"
        },
        "outputId": "ddeee8e0-966e-4395-d31a-7ee6bb82c362"
      },
      "source": [
        "%%writefile scrape_twitter.py\n",
        "import snscrape.modules.twitter as sntwitter\n",
        "import pandas as pd\n",
        "import itertools\n",
        "\n",
        "search_str = 'donald trump since:2021-07-30 until:2021-11-03'\n",
        "# search_str = 'pizza near:\"Los Angeles\" within:10km'\n",
        "# search_str = 'pizza geocode:\"{}\"'.format('34.052235, -118.243683, 10km')\n",
        "\n",
        "# Scraping data and append tweets to list\n",
        "tweets_df = pd.DataFrame(\n",
        "    itertools.islice(\n",
        "        sntwitter.TwitterSearchScraper(search_str).get_items(), \n",
        "        10) # slice only the first 10 results\n",
        "    )\n",
        "tweets_df.to_csv('donald_trump.csv')"
      ],
      "execution_count": null,
      "outputs": [
        {
          "output_type": "stream",
          "name": "stdout",
          "text": [
            "Writing scrape_twitter.py\n"
          ]
        }
      ]
    },
    {
      "cell_type": "code",
      "source": [
        "!python scrape_twitter.py"
      ],
      "metadata": {
        "id": "bVWkSDGjnfPx"
      },
      "execution_count": null,
      "outputs": []
    },
    {
      "cell_type": "code",
      "source": [
        "pd.read_csv('donald_trump.csv').sample(3)"
      ],
      "metadata": {
        "colab": {
          "base_uri": "https://localhost:8080/",
          "height": 363
        },
        "id": "LzNus-uQn01x",
        "outputId": "28f359f6-cdb3-4545-f90f-76c893bb253a"
      },
      "execution_count": null,
      "outputs": [
        {
          "output_type": "execute_result",
          "data": {
            "text/html": [
              "<div>\n",
              "<style scoped>\n",
              "    .dataframe tbody tr th:only-of-type {\n",
              "        vertical-align: middle;\n",
              "    }\n",
              "\n",
              "    .dataframe tbody tr th {\n",
              "        vertical-align: top;\n",
              "    }\n",
              "\n",
              "    .dataframe thead th {\n",
              "        text-align: right;\n",
              "    }\n",
              "</style>\n",
              "<table border=\"1\" class=\"dataframe\">\n",
              "  <thead>\n",
              "    <tr style=\"text-align: right;\">\n",
              "      <th></th>\n",
              "      <th>Unnamed: 0</th>\n",
              "      <th>url</th>\n",
              "      <th>date</th>\n",
              "      <th>content</th>\n",
              "      <th>renderedContent</th>\n",
              "      <th>id</th>\n",
              "      <th>user</th>\n",
              "      <th>replyCount</th>\n",
              "      <th>retweetCount</th>\n",
              "      <th>likeCount</th>\n",
              "      <th>quoteCount</th>\n",
              "      <th>conversationId</th>\n",
              "      <th>lang</th>\n",
              "      <th>source</th>\n",
              "      <th>sourceUrl</th>\n",
              "      <th>sourceLabel</th>\n",
              "      <th>outlinks</th>\n",
              "      <th>tcooutlinks</th>\n",
              "      <th>media</th>\n",
              "      <th>retweetedTweet</th>\n",
              "      <th>quotedTweet</th>\n",
              "      <th>inReplyToTweetId</th>\n",
              "      <th>inReplyToUser</th>\n",
              "      <th>mentionedUsers</th>\n",
              "      <th>coordinates</th>\n",
              "      <th>place</th>\n",
              "      <th>hashtags</th>\n",
              "      <th>cashtags</th>\n",
              "    </tr>\n",
              "  </thead>\n",
              "  <tbody>\n",
              "    <tr>\n",
              "      <th>0</th>\n",
              "      <td>0</td>\n",
              "      <td>https://twitter.com/schmvngpctrs/status/146986...</td>\n",
              "      <td>2021-12-12 03:08:59+00:00</td>\n",
              "      <td>@car_loser 💀💀💀</td>\n",
              "      <td>@car_loser 💀💀💀</td>\n",
              "      <td>1469866847168184322</td>\n",
              "      <td>{'username': 'schmvngpctrs', 'id': 210899830, ...</td>\n",
              "      <td>0</td>\n",
              "      <td>0</td>\n",
              "      <td>0</td>\n",
              "      <td>0</td>\n",
              "      <td>1469843343618166785</td>\n",
              "      <td>und</td>\n",
              "      <td>&lt;a href=\"http://twitter.com/download/iphone\" r...</td>\n",
              "      <td>http://twitter.com/download/iphone</td>\n",
              "      <td>Twitter for iPhone</td>\n",
              "      <td>NaN</td>\n",
              "      <td>NaN</td>\n",
              "      <td>NaN</td>\n",
              "      <td>NaN</td>\n",
              "      <td>NaN</td>\n",
              "      <td>1.469843e+18</td>\n",
              "      <td>{'username': 'car_loser', 'id': 32960007, 'dis...</td>\n",
              "      <td>[{'username': 'car_loser', 'id': 32960007, 'di...</td>\n",
              "      <td>NaN</td>\n",
              "      <td>NaN</td>\n",
              "      <td>NaN</td>\n",
              "      <td>NaN</td>\n",
              "    </tr>\n",
              "    <tr>\n",
              "      <th>6</th>\n",
              "      <td>6</td>\n",
              "      <td>https://twitter.com/Ultimate_Finley/status/146...</td>\n",
              "      <td>2021-12-12 02:53:37+00:00</td>\n",
              "      <td>I ordered a whole pizza at my fight spot since...</td>\n",
              "      <td>I ordered a whole pizza at my fight spot since...</td>\n",
              "      <td>1469862978568679427</td>\n",
              "      <td>{'username': 'Ultimate_Finley', 'id': 13883044...</td>\n",
              "      <td>0</td>\n",
              "      <td>0</td>\n",
              "      <td>0</td>\n",
              "      <td>0</td>\n",
              "      <td>1469862978568679427</td>\n",
              "      <td>en</td>\n",
              "      <td>&lt;a href=\"http://twitter.com/download/iphone\" r...</td>\n",
              "      <td>http://twitter.com/download/iphone</td>\n",
              "      <td>Twitter for iPhone</td>\n",
              "      <td>NaN</td>\n",
              "      <td>NaN</td>\n",
              "      <td>NaN</td>\n",
              "      <td>NaN</td>\n",
              "      <td>NaN</td>\n",
              "      <td>NaN</td>\n",
              "      <td>NaN</td>\n",
              "      <td>NaN</td>\n",
              "      <td>NaN</td>\n",
              "      <td>NaN</td>\n",
              "      <td>NaN</td>\n",
              "      <td>NaN</td>\n",
              "    </tr>\n",
              "    <tr>\n",
              "      <th>9</th>\n",
              "      <td>9</td>\n",
              "      <td>https://twitter.com/JamesDelorean/status/14698...</td>\n",
              "      <td>2021-12-12 02:41:52+00:00</td>\n",
              "      <td>Licorice Pizza made me feel like an idiot for ...</td>\n",
              "      <td>Licorice Pizza made me feel like an idiot for ...</td>\n",
              "      <td>1469860021592739851</td>\n",
              "      <td>{'username': 'JamesDelorean', 'id': 1145783593...</td>\n",
              "      <td>0</td>\n",
              "      <td>0</td>\n",
              "      <td>0</td>\n",
              "      <td>0</td>\n",
              "      <td>1469860021592739851</td>\n",
              "      <td>en</td>\n",
              "      <td>&lt;a href=\"http://twitter.com/download/iphone\" r...</td>\n",
              "      <td>http://twitter.com/download/iphone</td>\n",
              "      <td>Twitter for iPhone</td>\n",
              "      <td>NaN</td>\n",
              "      <td>NaN</td>\n",
              "      <td>NaN</td>\n",
              "      <td>NaN</td>\n",
              "      <td>NaN</td>\n",
              "      <td>NaN</td>\n",
              "      <td>NaN</td>\n",
              "      <td>NaN</td>\n",
              "      <td>NaN</td>\n",
              "      <td>NaN</td>\n",
              "      <td>NaN</td>\n",
              "      <td>NaN</td>\n",
              "    </tr>\n",
              "  </tbody>\n",
              "</table>\n",
              "</div>"
            ],
            "text/plain": [
              "   Unnamed: 0  ... cashtags\n",
              "0           0  ...      NaN\n",
              "6           6  ...      NaN\n",
              "9           9  ...      NaN\n",
              "\n",
              "[3 rows x 28 columns]"
            ]
          },
          "metadata": {},
          "execution_count": 23
        }
      ]
    }
  ]
}